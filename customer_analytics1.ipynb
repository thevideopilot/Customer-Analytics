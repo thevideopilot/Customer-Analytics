{
 "cells": [
  {
   "cell_type": "markdown",
   "metadata": {},
   "source": [
    "# Customer Behavoir Analytics\n",
    "\n",
    "Consumer behaviour is the study of how individual customers or group of customers buy, use, and dispose ideas, goods, and services to satisfy their needs and wants. (google).\n",
    "\n",
    "So the importance of customer analytics is rising, this is because when you analyze your customers, you define who your target market is, then you can decide how you'll reach them.\n",
    "\n",
    "Access to customer data became easier for many businesses and also customers now have accese to data  and information on similar products and contents competitors have. This makes it critical to many businesses to be able to understand and predict what their customers are likely to purchase or view."
   ]
  },
  {
   "cell_type": "code",
   "execution_count": 1,
   "metadata": {},
   "outputs": [],
   "source": [
    "# importing neccesary libraries\n",
    "\n",
    "%matplotlib inline\n",
    "import matplotlib.pyplot as plt\n",
    "import pandas as pd"
   ]
  },
  {
   "cell_type": "markdown",
   "metadata": {},
   "source": [
    "#### 1. Load Data\n",
    "The data set was gotten from this link:\n",
    "\n",
    "https://www.kaggle.com/pankajjsh06/ibm-watson-marketing-customer-value-data/downloads/ibm-watson-marketing-customer-value-data.zip/1\n",
    "\n",
    "\n"
   ]
  },
  {
   "cell_type": "code",
   "execution_count": 2,
   "metadata": {},
   "outputs": [],
   "source": [
    "data = pd.read_csv('WA_Fn-UseC_-Marketing-Customer-Value-Analysis.csv')"
   ]
  },
  {
   "cell_type": "code",
   "execution_count": 3,
   "metadata": {},
   "outputs": [
    {
     "data": {
      "text/plain": [
       "(9134, 24)"
      ]
     },
     "execution_count": 3,
     "metadata": {},
     "output_type": "execute_result"
    }
   ],
   "source": [
    "data.shape # the set has 9134 rows and 24 columns"
   ]
  },
  {
   "cell_type": "code",
   "execution_count": 4,
   "metadata": {},
   "outputs": [
    {
     "data": {
      "text/html": [
       "<div>\n",
       "<style scoped>\n",
       "    .dataframe tbody tr th:only-of-type {\n",
       "        vertical-align: middle;\n",
       "    }\n",
       "\n",
       "    .dataframe tbody tr th {\n",
       "        vertical-align: top;\n",
       "    }\n",
       "\n",
       "    .dataframe thead th {\n",
       "        text-align: right;\n",
       "    }\n",
       "</style>\n",
       "<table border=\"1\" class=\"dataframe\">\n",
       "  <thead>\n",
       "    <tr style=\"text-align: right;\">\n",
       "      <th></th>\n",
       "      <th>Customer</th>\n",
       "      <th>State</th>\n",
       "      <th>Customer Lifetime Value</th>\n",
       "      <th>Response</th>\n",
       "      <th>Coverage</th>\n",
       "      <th>Education</th>\n",
       "      <th>Effective To Date</th>\n",
       "      <th>EmploymentStatus</th>\n",
       "      <th>Gender</th>\n",
       "      <th>Income</th>\n",
       "      <th>...</th>\n",
       "      <th>Months Since Policy Inception</th>\n",
       "      <th>Number of Open Complaints</th>\n",
       "      <th>Number of Policies</th>\n",
       "      <th>Policy Type</th>\n",
       "      <th>Policy</th>\n",
       "      <th>Renew Offer Type</th>\n",
       "      <th>Sales Channel</th>\n",
       "      <th>Total Claim Amount</th>\n",
       "      <th>Vehicle Class</th>\n",
       "      <th>Vehicle Size</th>\n",
       "    </tr>\n",
       "  </thead>\n",
       "  <tbody>\n",
       "    <tr>\n",
       "      <th>0</th>\n",
       "      <td>BU79786</td>\n",
       "      <td>Washington</td>\n",
       "      <td>2763.519279</td>\n",
       "      <td>No</td>\n",
       "      <td>Basic</td>\n",
       "      <td>Bachelor</td>\n",
       "      <td>2/24/11</td>\n",
       "      <td>Employed</td>\n",
       "      <td>F</td>\n",
       "      <td>56274</td>\n",
       "      <td>...</td>\n",
       "      <td>5</td>\n",
       "      <td>0</td>\n",
       "      <td>1</td>\n",
       "      <td>Corporate Auto</td>\n",
       "      <td>Corporate L3</td>\n",
       "      <td>Offer1</td>\n",
       "      <td>Agent</td>\n",
       "      <td>384.811147</td>\n",
       "      <td>Two-Door Car</td>\n",
       "      <td>Medsize</td>\n",
       "    </tr>\n",
       "    <tr>\n",
       "      <th>1</th>\n",
       "      <td>QZ44356</td>\n",
       "      <td>Arizona</td>\n",
       "      <td>6979.535903</td>\n",
       "      <td>No</td>\n",
       "      <td>Extended</td>\n",
       "      <td>Bachelor</td>\n",
       "      <td>1/31/11</td>\n",
       "      <td>Unemployed</td>\n",
       "      <td>F</td>\n",
       "      <td>0</td>\n",
       "      <td>...</td>\n",
       "      <td>42</td>\n",
       "      <td>0</td>\n",
       "      <td>8</td>\n",
       "      <td>Personal Auto</td>\n",
       "      <td>Personal L3</td>\n",
       "      <td>Offer3</td>\n",
       "      <td>Agent</td>\n",
       "      <td>1131.464935</td>\n",
       "      <td>Four-Door Car</td>\n",
       "      <td>Medsize</td>\n",
       "    </tr>\n",
       "    <tr>\n",
       "      <th>2</th>\n",
       "      <td>AI49188</td>\n",
       "      <td>Nevada</td>\n",
       "      <td>12887.431650</td>\n",
       "      <td>No</td>\n",
       "      <td>Premium</td>\n",
       "      <td>Bachelor</td>\n",
       "      <td>2/19/11</td>\n",
       "      <td>Employed</td>\n",
       "      <td>F</td>\n",
       "      <td>48767</td>\n",
       "      <td>...</td>\n",
       "      <td>38</td>\n",
       "      <td>0</td>\n",
       "      <td>2</td>\n",
       "      <td>Personal Auto</td>\n",
       "      <td>Personal L3</td>\n",
       "      <td>Offer1</td>\n",
       "      <td>Agent</td>\n",
       "      <td>566.472247</td>\n",
       "      <td>Two-Door Car</td>\n",
       "      <td>Medsize</td>\n",
       "    </tr>\n",
       "    <tr>\n",
       "      <th>3</th>\n",
       "      <td>WW63253</td>\n",
       "      <td>California</td>\n",
       "      <td>7645.861827</td>\n",
       "      <td>No</td>\n",
       "      <td>Basic</td>\n",
       "      <td>Bachelor</td>\n",
       "      <td>1/20/11</td>\n",
       "      <td>Unemployed</td>\n",
       "      <td>M</td>\n",
       "      <td>0</td>\n",
       "      <td>...</td>\n",
       "      <td>65</td>\n",
       "      <td>0</td>\n",
       "      <td>7</td>\n",
       "      <td>Corporate Auto</td>\n",
       "      <td>Corporate L2</td>\n",
       "      <td>Offer1</td>\n",
       "      <td>Call Center</td>\n",
       "      <td>529.881344</td>\n",
       "      <td>SUV</td>\n",
       "      <td>Medsize</td>\n",
       "    </tr>\n",
       "    <tr>\n",
       "      <th>4</th>\n",
       "      <td>HB64268</td>\n",
       "      <td>Washington</td>\n",
       "      <td>2813.692575</td>\n",
       "      <td>No</td>\n",
       "      <td>Basic</td>\n",
       "      <td>Bachelor</td>\n",
       "      <td>2/3/11</td>\n",
       "      <td>Employed</td>\n",
       "      <td>M</td>\n",
       "      <td>43836</td>\n",
       "      <td>...</td>\n",
       "      <td>44</td>\n",
       "      <td>0</td>\n",
       "      <td>1</td>\n",
       "      <td>Personal Auto</td>\n",
       "      <td>Personal L1</td>\n",
       "      <td>Offer1</td>\n",
       "      <td>Agent</td>\n",
       "      <td>138.130879</td>\n",
       "      <td>Four-Door Car</td>\n",
       "      <td>Medsize</td>\n",
       "    </tr>\n",
       "  </tbody>\n",
       "</table>\n",
       "<p>5 rows × 24 columns</p>\n",
       "</div>"
      ],
      "text/plain": [
       "  Customer       State  Customer Lifetime Value Response  Coverage Education  \\\n",
       "0  BU79786  Washington              2763.519279       No     Basic  Bachelor   \n",
       "1  QZ44356     Arizona              6979.535903       No  Extended  Bachelor   \n",
       "2  AI49188      Nevada             12887.431650       No   Premium  Bachelor   \n",
       "3  WW63253  California              7645.861827       No     Basic  Bachelor   \n",
       "4  HB64268  Washington              2813.692575       No     Basic  Bachelor   \n",
       "\n",
       "  Effective To Date EmploymentStatus Gender  Income     ...       \\\n",
       "0           2/24/11         Employed      F   56274     ...        \n",
       "1           1/31/11       Unemployed      F       0     ...        \n",
       "2           2/19/11         Employed      F   48767     ...        \n",
       "3           1/20/11       Unemployed      M       0     ...        \n",
       "4            2/3/11         Employed      M   43836     ...        \n",
       "\n",
       "  Months Since Policy Inception Number of Open Complaints  Number of Policies  \\\n",
       "0                             5                         0                   1   \n",
       "1                            42                         0                   8   \n",
       "2                            38                         0                   2   \n",
       "3                            65                         0                   7   \n",
       "4                            44                         0                   1   \n",
       "\n",
       "      Policy Type        Policy  Renew Offer Type  Sales Channel  \\\n",
       "0  Corporate Auto  Corporate L3            Offer1          Agent   \n",
       "1   Personal Auto   Personal L3            Offer3          Agent   \n",
       "2   Personal Auto   Personal L3            Offer1          Agent   \n",
       "3  Corporate Auto  Corporate L2            Offer1    Call Center   \n",
       "4   Personal Auto   Personal L1            Offer1          Agent   \n",
       "\n",
       "  Total Claim Amount  Vehicle Class Vehicle Size  \n",
       "0         384.811147   Two-Door Car      Medsize  \n",
       "1        1131.464935  Four-Door Car      Medsize  \n",
       "2         566.472247   Two-Door Car      Medsize  \n",
       "3         529.881344            SUV      Medsize  \n",
       "4         138.130879  Four-Door Car      Medsize  \n",
       "\n",
       "[5 rows x 24 columns]"
      ]
     },
     "execution_count": 4,
     "metadata": {},
     "output_type": "execute_result"
    }
   ],
   "source": [
    "# view the first few rows of the data to get an idea of how it looks\n",
    "data.head()"
   ]
  },
  {
   "cell_type": "code",
   "execution_count": 5,
   "metadata": {},
   "outputs": [
    {
     "data": {
      "text/plain": [
       "Index(['Customer', 'State', 'Customer Lifetime Value', 'Response', 'Coverage',\n",
       "       'Education', 'Effective To Date', 'EmploymentStatus', 'Gender',\n",
       "       'Income', 'Location Code', 'Marital Status', 'Monthly Premium Auto',\n",
       "       'Months Since Last Claim', 'Months Since Policy Inception',\n",
       "       'Number of Open Complaints', 'Number of Policies', 'Policy Type',\n",
       "       'Policy', 'Renew Offer Type', 'Sales Channel', 'Total Claim Amount',\n",
       "       'Vehicle Class', 'Vehicle Size'],\n",
       "      dtype='object')"
      ]
     },
     "execution_count": 5,
     "metadata": {},
     "output_type": "execute_result"
    }
   ],
   "source": [
    "data.columns"
   ]
  },
  {
   "cell_type": "markdown",
   "metadata": {},
   "source": [
    " ### 2. Analytics on Engaged Customers\n",
    "This section is to analyse the set to understand how different customers behave and react to different marketing strategies.\n"
   ]
  },
  {
   "cell_type": "markdown",
   "metadata": {},
   "source": [
    "#### 2.1 Overall Engagement Rate\n",
    "The 'Respose' column contains informantion about  whether a customer responded to the marketing efforts"
   ]
  },
  {
   "cell_type": "code",
   "execution_count": 6,
   "metadata": {},
   "outputs": [
    {
     "data": {
      "text/plain": [
       "Response\n",
       "No     7826\n",
       "Yes    1308\n",
       "Name: Customer, dtype: int64"
      ]
     },
     "execution_count": 6,
     "metadata": {},
     "output_type": "execute_result"
    }
   ],
   "source": [
    "# the response column contains info about whether a customer responded\n",
    "# to the marketing efforts. so we get the total number customers\n",
    "# who have responded.\n",
    "\n",
    "data.groupby('Response').count()['Customer']"
   ]
  },
  {
   "cell_type": "code",
   "execution_count": 7,
   "metadata": {},
   "outputs": [
    {
     "data": {
      "text/plain": [
       "Text(0, 0.5, 'Count')"
      ]
     },
     "execution_count": 7,
     "metadata": {},
     "output_type": "execute_result"
    },
    {
     "data": {
      "image/png": "[encoded data removed]",
      "text/plain": [
       "<Figure size 720x504 with 1 Axes>"
      ]
     },
     "metadata": {
      "needs_background": "light"
     },
     "output_type": "display_data"
    }
   ],
   "source": [
    "# Visualize this in a bar plot\n",
    "\n",
    "ax = data.groupby('Response').count()['Customer'].plot(\n",
    "    kind='bar',color='orchid',grid=True,figsize=(10,7),\n",
    "    title='Marketing Engagement')\n",
    "\n",
    "ax.set_xlabel('Engaged')\n",
    "ax.set_ylabel('Count')"
   ]
  },
  {
   "cell_type": "code",
   "execution_count": 8,
   "metadata": {},
   "outputs": [
    {
     "data": {
      "text/plain": [
       "Response\n",
       "No     0.856799\n",
       "Yes    0.143201\n",
       "Name: Customer, dtype: float64"
      ]
     },
     "execution_count": 8,
     "metadata": {},
     "output_type": "execute_result"
    }
   ],
   "source": [
    "# Calculate the percentage of the engaged and non-engaged customers\n",
    "data.groupby('Response').count()['Customer']/data.shape[0]"
   ]
  },
  {
   "cell_type": "markdown",
   "metadata": {},
   "source": [
    "From this we can see that only about 14% of the customers responded to the marketing calls."
   ]
  },
  {
   "cell_type": "markdown",
   "metadata": {},
   "source": [
    "#### 2.2 Engagement Rates by Offer Type\n",
    "\n",
    "The data set contains the type of renewal offer presented to the customers. This is stored in the 'Renew Offer Type' Column. In this subsection we are looking into what types of offer types worked best fot the engaged customers."
   ]
  },
  {
   "cell_type": "code",
   "execution_count": 9,
   "metadata": {},
   "outputs": [
    {
     "data": {
      "text/plain": [
       "Renew Offer Type\n",
       "Offer1    0.158316\n",
       "Offer2    0.233766\n",
       "Offer3    0.020950\n",
       "Offer4         NaN\n",
       "Name: Customer, dtype: float64"
      ]
     },
     "execution_count": 9,
     "metadata": {},
     "output_type": "execute_result"
    }
   ],
   "source": [
    "# Get the engagemnt rates per renewal offer type\n",
    "customers_byoffer = data.loc[data['Response']=='Yes', #count only engaged customers\n",
    "                            ].groupby(['Renew Offer Type'], #engaged customers grouped by renewal offer type\n",
    "                                     ).count()['Customer']/data.groupby(['Renew Offer Type']).count()['Customer']\n",
    "\n",
    "customers_byoffer"
   ]
  },
  {
   "cell_type": "code",
   "execution_count": 10,
   "metadata": {},
   "outputs": [
    {
     "data": {
      "text/html": [
       "<div>\n",
       "<style scoped>\n",
       "    .dataframe tbody tr th:only-of-type {\n",
       "        vertical-align: middle;\n",
       "    }\n",
       "\n",
       "    .dataframe tbody tr th {\n",
       "        vertical-align: top;\n",
       "    }\n",
       "\n",
       "    .dataframe thead th {\n",
       "        text-align: right;\n",
       "    }\n",
       "</style>\n",
       "<table border=\"1\" class=\"dataframe\">\n",
       "  <thead>\n",
       "    <tr style=\"text-align: right;\">\n",
       "      <th></th>\n",
       "      <th>Customer</th>\n",
       "      <th>State</th>\n",
       "      <th>Customer Lifetime Value</th>\n",
       "      <th>Response</th>\n",
       "      <th>Coverage</th>\n",
       "      <th>Education</th>\n",
       "      <th>Effective To Date</th>\n",
       "      <th>EmploymentStatus</th>\n",
       "      <th>Gender</th>\n",
       "      <th>Income</th>\n",
       "      <th>...</th>\n",
       "      <th>Months Since Last Claim</th>\n",
       "      <th>Months Since Policy Inception</th>\n",
       "      <th>Number of Open Complaints</th>\n",
       "      <th>Number of Policies</th>\n",
       "      <th>Policy Type</th>\n",
       "      <th>Policy</th>\n",
       "      <th>Sales Channel</th>\n",
       "      <th>Total Claim Amount</th>\n",
       "      <th>Vehicle Class</th>\n",
       "      <th>Vehicle Size</th>\n",
       "    </tr>\n",
       "    <tr>\n",
       "      <th>Renew Offer Type</th>\n",
       "      <th></th>\n",
       "      <th></th>\n",
       "      <th></th>\n",
       "      <th></th>\n",
       "      <th></th>\n",
       "      <th></th>\n",
       "      <th></th>\n",
       "      <th></th>\n",
       "      <th></th>\n",
       "      <th></th>\n",
       "      <th></th>\n",
       "      <th></th>\n",
       "      <th></th>\n",
       "      <th></th>\n",
       "      <th></th>\n",
       "      <th></th>\n",
       "      <th></th>\n",
       "      <th></th>\n",
       "      <th></th>\n",
       "      <th></th>\n",
       "      <th></th>\n",
       "    </tr>\n",
       "  </thead>\n",
       "  <tbody>\n",
       "    <tr>\n",
       "      <th>Offer1</th>\n",
       "      <td>3752</td>\n",
       "      <td>3752</td>\n",
       "      <td>3752</td>\n",
       "      <td>3752</td>\n",
       "      <td>3752</td>\n",
       "      <td>3752</td>\n",
       "      <td>3752</td>\n",
       "      <td>3752</td>\n",
       "      <td>3752</td>\n",
       "      <td>3752</td>\n",
       "      <td>...</td>\n",
       "      <td>3752</td>\n",
       "      <td>3752</td>\n",
       "      <td>3752</td>\n",
       "      <td>3752</td>\n",
       "      <td>3752</td>\n",
       "      <td>3752</td>\n",
       "      <td>3752</td>\n",
       "      <td>3752</td>\n",
       "      <td>3752</td>\n",
       "      <td>3752</td>\n",
       "    </tr>\n",
       "    <tr>\n",
       "      <th>Offer2</th>\n",
       "      <td>2926</td>\n",
       "      <td>2926</td>\n",
       "      <td>2926</td>\n",
       "      <td>2926</td>\n",
       "      <td>2926</td>\n",
       "      <td>2926</td>\n",
       "      <td>2926</td>\n",
       "      <td>2926</td>\n",
       "      <td>2926</td>\n",
       "      <td>2926</td>\n",
       "      <td>...</td>\n",
       "      <td>2926</td>\n",
       "      <td>2926</td>\n",
       "      <td>2926</td>\n",
       "      <td>2926</td>\n",
       "      <td>2926</td>\n",
       "      <td>2926</td>\n",
       "      <td>2926</td>\n",
       "      <td>2926</td>\n",
       "      <td>2926</td>\n",
       "      <td>2926</td>\n",
       "    </tr>\n",
       "    <tr>\n",
       "      <th>Offer3</th>\n",
       "      <td>1432</td>\n",
       "      <td>1432</td>\n",
       "      <td>1432</td>\n",
       "      <td>1432</td>\n",
       "      <td>1432</td>\n",
       "      <td>1432</td>\n",
       "      <td>1432</td>\n",
       "      <td>1432</td>\n",
       "      <td>1432</td>\n",
       "      <td>1432</td>\n",
       "      <td>...</td>\n",
       "      <td>1432</td>\n",
       "      <td>1432</td>\n",
       "      <td>1432</td>\n",
       "      <td>1432</td>\n",
       "      <td>1432</td>\n",
       "      <td>1432</td>\n",
       "      <td>1432</td>\n",
       "      <td>1432</td>\n",
       "      <td>1432</td>\n",
       "      <td>1432</td>\n",
       "    </tr>\n",
       "    <tr>\n",
       "      <th>Offer4</th>\n",
       "      <td>1024</td>\n",
       "      <td>1024</td>\n",
       "      <td>1024</td>\n",
       "      <td>1024</td>\n",
       "      <td>1024</td>\n",
       "      <td>1024</td>\n",
       "      <td>1024</td>\n",
       "      <td>1024</td>\n",
       "      <td>1024</td>\n",
       "      <td>1024</td>\n",
       "      <td>...</td>\n",
       "      <td>1024</td>\n",
       "      <td>1024</td>\n",
       "      <td>1024</td>\n",
       "      <td>1024</td>\n",
       "      <td>1024</td>\n",
       "      <td>1024</td>\n",
       "      <td>1024</td>\n",
       "      <td>1024</td>\n",
       "      <td>1024</td>\n",
       "      <td>1024</td>\n",
       "    </tr>\n",
       "  </tbody>\n",
       "</table>\n",
       "<p>4 rows × 23 columns</p>\n",
       "</div>"
      ],
      "text/plain": [
       "                  Customer  State  Customer Lifetime Value  Response  \\\n",
       "Renew Offer Type                                                       \n",
       "Offer1                3752   3752                     3752      3752   \n",
       "Offer2                2926   2926                     2926      2926   \n",
       "Offer3                1432   1432                     1432      1432   \n",
       "Offer4                1024   1024                     1024      1024   \n",
       "\n",
       "                  Coverage  Education  Effective To Date  EmploymentStatus  \\\n",
       "Renew Offer Type                                                             \n",
       "Offer1                3752       3752               3752              3752   \n",
       "Offer2                2926       2926               2926              2926   \n",
       "Offer3                1432       1432               1432              1432   \n",
       "Offer4                1024       1024               1024              1024   \n",
       "\n",
       "                  Gender  Income      ...       Months Since Last Claim  \\\n",
       "Renew Offer Type                      ...                                 \n",
       "Offer1              3752    3752      ...                          3752   \n",
       "Offer2              2926    2926      ...                          2926   \n",
       "Offer3              1432    1432      ...                          1432   \n",
       "Offer4              1024    1024      ...                          1024   \n",
       "\n",
       "                  Months Since Policy Inception  Number of Open Complaints  \\\n",
       "Renew Offer Type                                                             \n",
       "Offer1                                     3752                       3752   \n",
       "Offer2                                     2926                       2926   \n",
       "Offer3                                     1432                       1432   \n",
       "Offer4                                     1024                       1024   \n",
       "\n",
       "                  Number of Policies  Policy Type  Policy  Sales Channel  \\\n",
       "Renew Offer Type                                                           \n",
       "Offer1                          3752         3752    3752           3752   \n",
       "Offer2                          2926         2926    2926           2926   \n",
       "Offer3                          1432         1432    1432           1432   \n",
       "Offer4                          1024         1024    1024           1024   \n",
       "\n",
       "                  Total Claim Amount  Vehicle Class  Vehicle Size  \n",
       "Renew Offer Type                                                   \n",
       "Offer1                          3752           3752          3752  \n",
       "Offer2                          2926           2926          2926  \n",
       "Offer3                          1432           1432          1432  \n",
       "Offer4                          1024           1024          1024  \n",
       "\n",
       "[4 rows x 23 columns]"
      ]
     },
     "execution_count": 10,
     "metadata": {},
     "output_type": "execute_result"
    }
   ],
   "source": [
    "data.groupby(['Renew Offer Type']).count()"
   ]
  },
  {
   "cell_type": "code",
   "execution_count": 11,
   "metadata": {},
   "outputs": [
    {
     "data": {
      "image/png": "[encoded data removed]",
      "text/plain": [
       "<Figure size 504x504 with 1 Axes>"
      ]
     },
     "metadata": {
      "needs_background": "light"
     },
     "output_type": "display_data"
    }
   ],
   "source": [
    "# Visulize it in a bar plot\n",
    "ax = (customers_byoffer*100).plot(kind='bar',figsize=(7,7),color='dodgerblue',grid=True)\n",
    "\n",
    "ax.set_ylabel('Engagement Rate (%)')\n",
    "\n",
    "plt.show()"
   ]
  },
  {
   "cell_type": "markdown",
   "metadata": {},
   "source": [
    "From the plot above we can see that 'offer2' had the highest engagement  rate among the customers."
   ]
  },
  {
   "cell_type": "markdown",
   "metadata": {},
   "source": [
    "#### 2.3 Offer Type and Vehicle Class\n",
    "We want to understand how customers with different attributes respond differently to different marketing messages.\n",
    "Starting with engagements rates by offer type and vehicle class."
   ]
  },
  {
   "cell_type": "code",
   "execution_count": 12,
   "metadata": {},
   "outputs": [
    {
     "data": {
      "text/plain": [
       "Renew Offer Type  Vehicle Class\n",
       "Offer1            Four-Door Car    0.070362\n",
       "                  Luxury Car       0.001599\n",
       "                  Luxury SUV       0.004797\n",
       "                  SUV              0.044776\n",
       "                  Sports Car       0.011194\n",
       "                  Two-Door Car     0.025586\n",
       "Offer2            Four-Door Car    0.114833\n",
       "                  Luxury Car       0.002051\n",
       "                  Luxury SUV       0.004101\n",
       "                  SUV              0.041012\n",
       "                  Sports Car       0.016405\n",
       "                  Two-Door Car     0.055366\n",
       "Offer3            Four-Door Car    0.016760\n",
       "                  Two-Door Car     0.004190\n",
       "Name: Customer, dtype: float64"
      ]
     },
     "execution_count": 12,
     "metadata": {},
     "output_type": "execute_result"
    }
   ],
   "source": [
    "cus_byoffer_veh = data.loc[data['Response']=='Yes' #engaged customers\n",
    "].groupby(['Renew Offer Type','Vehicle Class'  #rate by offer type and vehical class\n",
    "\n",
    "]).count()['Customer'] / data.groupby('Renew Offer Type').count()['Customer'] \n",
    "#grouping the data by these two columns\n",
    "\n",
    "cus_byoffer_veh"
   ]
  },
  {
   "cell_type": "code",
   "execution_count": 13,
   "metadata": {},
   "outputs": [
    {
     "data": {
      "text/html": [
       "<div>\n",
       "<style scoped>\n",
       "    .dataframe tbody tr th:only-of-type {\n",
       "        vertical-align: middle;\n",
       "    }\n",
       "\n",
       "    .dataframe tbody tr th {\n",
       "        vertical-align: top;\n",
       "    }\n",
       "\n",
       "    .dataframe thead th {\n",
       "        text-align: right;\n",
       "    }\n",
       "</style>\n",
       "<table border=\"1\" class=\"dataframe\">\n",
       "  <thead>\n",
       "    <tr style=\"text-align: right;\">\n",
       "      <th>Vehicle Class</th>\n",
       "      <th>Four-Door Car</th>\n",
       "      <th>Luxury Car</th>\n",
       "      <th>Luxury SUV</th>\n",
       "      <th>SUV</th>\n",
       "      <th>Sports Car</th>\n",
       "      <th>Two-Door Car</th>\n",
       "    </tr>\n",
       "    <tr>\n",
       "      <th>Renew Offer Type</th>\n",
       "      <th></th>\n",
       "      <th></th>\n",
       "      <th></th>\n",
       "      <th></th>\n",
       "      <th></th>\n",
       "      <th></th>\n",
       "    </tr>\n",
       "  </thead>\n",
       "  <tbody>\n",
       "    <tr>\n",
       "      <th>Offer1</th>\n",
       "      <td>0.070362</td>\n",
       "      <td>0.001599</td>\n",
       "      <td>0.004797</td>\n",
       "      <td>0.044776</td>\n",
       "      <td>0.011194</td>\n",
       "      <td>0.025586</td>\n",
       "    </tr>\n",
       "    <tr>\n",
       "      <th>Offer2</th>\n",
       "      <td>0.114833</td>\n",
       "      <td>0.002051</td>\n",
       "      <td>0.004101</td>\n",
       "      <td>0.041012</td>\n",
       "      <td>0.016405</td>\n",
       "      <td>0.055366</td>\n",
       "    </tr>\n",
       "    <tr>\n",
       "      <th>Offer3</th>\n",
       "      <td>0.016760</td>\n",
       "      <td>0.000000</td>\n",
       "      <td>0.000000</td>\n",
       "      <td>0.000000</td>\n",
       "      <td>0.000000</td>\n",
       "      <td>0.004190</td>\n",
       "    </tr>\n",
       "  </tbody>\n",
       "</table>\n",
       "</div>"
      ],
      "text/plain": [
       "Vehicle Class     Four-Door Car  Luxury Car  Luxury SUV       SUV  Sports Car  \\\n",
       "Renew Offer Type                                                                \n",
       "Offer1                 0.070362    0.001599    0.004797  0.044776    0.011194   \n",
       "Offer2                 0.114833    0.002051    0.004101  0.041012    0.016405   \n",
       "Offer3                 0.016760    0.000000    0.000000  0.000000    0.000000   \n",
       "\n",
       "Vehicle Class     Two-Door Car  \n",
       "Renew Offer Type                \n",
       "Offer1                0.025586  \n",
       "Offer2                0.055366  \n",
       "Offer3                0.004190  "
      ]
     },
     "execution_count": 13,
     "metadata": {},
     "output_type": "execute_result"
    }
   ],
   "source": [
    "#To make the output more readable, we will use the unstack function\n",
    "# to pivot the data, extract and trabsfrom the inner level groups to columns\n",
    "\n",
    "cus_byoffer_veh = cus_byoffer_veh.unstack().fillna(0)\n",
    "cus_byoffer_veh"
   ]
  },
  {
   "cell_type": "code",
   "execution_count": 14,
   "metadata": {},
   "outputs": [
    {
     "data": {
      "image/png": "[encoded data removed]",
      "text/plain": [
       "<Figure size 720x504 with 1 Axes>"
      ]
     },
     "metadata": {
      "needs_background": "light"
     },
     "output_type": "display_data"
    }
   ],
   "source": [
    "# Visualizing the data in a bar plot\n",
    "ax = (cus_byoffer_veh*100).plot(\n",
    "     kind='bar',figsize=(10,7),grid=True)\n",
    "    \n",
    "ax.set_ylabel('Engagement Rate (%)')\n",
    "\n",
    "plt.show()"
   ]
  },
  {
   "cell_type": "markdown",
   "metadata": {},
   "source": [
    "From the plot above, we can see that customers with Four Door Car respond more to all offer types. From the 'Engagement Rates by Offer Typr' section we know that offer 2 has the most responses. Also those with 'Luxury SUV' respond with to offer 1 more than offer 2. With this we draw insights to know which offer to present to customres based on their vehicale class.\n",
    "\n",
    "Lastly, If we have significantly difference in the\n",
    "response rates among different customer rates, we can fine-tune who to target for different set\n",
    "of offers."
   ]
  },
  {
   "cell_type": "markdown",
   "metadata": {},
   "source": [
    "### 2.4 Engagement Rates by Sales Channel\n",
    "\n",
    "This section will analyze hpw engagement rates differ by different sales channels.\n"
   ]
  },
  {
   "cell_type": "code",
   "execution_count": 15,
   "metadata": {},
   "outputs": [
    {
     "data": {
      "text/plain": [
       "Sales Channel\n",
       "Agent          0.191544\n",
       "Branch         0.114531\n",
       "Call Center    0.108782\n",
       "Web            0.117736\n",
       "Name: Customer, dtype: float64"
      ]
     },
     "execution_count": 15,
     "metadata": {},
     "output_type": "execute_result"
    }
   ],
   "source": [
    "cus_bysales = data.loc[\n",
    "    data['Response']=='Yes'\n",
    "].groupby(['Sales Channel'\n",
    "          ]).count()['Customer'] / data.groupby('Sales Channel'\n",
    "                                               ).count()['Customer']\n",
    "\n",
    "cus_bysales"
   ]
  },
  {
   "cell_type": "code",
   "execution_count": 16,
   "metadata": {},
   "outputs": [
    {
     "data": {
      "image/png": "[encoded data removed]",
      "text/plain": [
       "<Figure size 504x504 with 1 Axes>"
      ]
     },
     "metadata": {
      "needs_background": "light"
     },
     "output_type": "display_data"
    }
   ],
   "source": [
    "# Visualizing the data\n",
    "\n",
    "ax = (cus_bysales*100).plot(kind='bar',\n",
    "                            figsize=(7,7),\n",
    "                            color='palegreen',grid=True)\n",
    "ax.set_ylabel('Engagement Rate (%)')\n",
    "plt.show()"
   ]
  },
  {
   "cell_type": "markdown",
   "metadata": {},
   "source": [
    "From the above plot, we can see that sales channels works better than forms in terms of getting responses from customers. Web sales works second best "
   ]
  },
  {
   "cell_type": "markdown",
   "metadata": {},
   "source": [
    "### 2.5 Sales Channel and Vehicle Size"
   ]
  },
  {
   "cell_type": "code",
   "execution_count": 17,
   "metadata": {},
   "outputs": [
    {
     "data": {
      "text/plain": [
       "Sales Channel  Vehicle Size\n",
       "Agent          Large           0.020708\n",
       "               Medsize         0.144953\n",
       "               Small           0.025884\n",
       "Branch         Large           0.021036\n",
       "               Medsize         0.074795\n",
       "               Small           0.018699\n",
       "Call Center    Large           0.013598\n",
       "               Medsize         0.067989\n",
       "               Small           0.027195\n",
       "Web            Large           0.013585\n",
       "               Medsize         0.095094\n",
       "               Small           0.009057\n",
       "Name: Customer, dtype: float64"
      ]
     },
     "execution_count": 17,
     "metadata": {},
     "output_type": "execute_result"
    }
   ],
   "source": [
    "cus_bysales_veh = data.loc[\n",
    "    data['Response']=='Yes'\n",
    "].groupby([\n",
    "    'Sales Channel', 'Vehicle Size'\n",
    "]).count()['Customer'] / data.groupby('Sales Channel').count()['Customer']\n",
    "\n",
    "cus_bysales_veh"
   ]
  },
  {
   "cell_type": "code",
   "execution_count": 18,
   "metadata": {},
   "outputs": [
    {
     "data": {
      "text/html": [
       "<div>\n",
       "<style scoped>\n",
       "    .dataframe tbody tr th:only-of-type {\n",
       "        vertical-align: middle;\n",
       "    }\n",
       "\n",
       "    .dataframe tbody tr th {\n",
       "        vertical-align: top;\n",
       "    }\n",
       "\n",
       "    .dataframe thead th {\n",
       "        text-align: right;\n",
       "    }\n",
       "</style>\n",
       "<table border=\"1\" class=\"dataframe\">\n",
       "  <thead>\n",
       "    <tr style=\"text-align: right;\">\n",
       "      <th>Vehicle Size</th>\n",
       "      <th>Large</th>\n",
       "      <th>Medsize</th>\n",
       "      <th>Small</th>\n",
       "    </tr>\n",
       "    <tr>\n",
       "      <th>Sales Channel</th>\n",
       "      <th></th>\n",
       "      <th></th>\n",
       "      <th></th>\n",
       "    </tr>\n",
       "  </thead>\n",
       "  <tbody>\n",
       "    <tr>\n",
       "      <th>Agent</th>\n",
       "      <td>0.020708</td>\n",
       "      <td>0.144953</td>\n",
       "      <td>0.025884</td>\n",
       "    </tr>\n",
       "    <tr>\n",
       "      <th>Branch</th>\n",
       "      <td>0.021036</td>\n",
       "      <td>0.074795</td>\n",
       "      <td>0.018699</td>\n",
       "    </tr>\n",
       "    <tr>\n",
       "      <th>Call Center</th>\n",
       "      <td>0.013598</td>\n",
       "      <td>0.067989</td>\n",
       "      <td>0.027195</td>\n",
       "    </tr>\n",
       "    <tr>\n",
       "      <th>Web</th>\n",
       "      <td>0.013585</td>\n",
       "      <td>0.095094</td>\n",
       "      <td>0.009057</td>\n",
       "    </tr>\n",
       "  </tbody>\n",
       "</table>\n",
       "</div>"
      ],
      "text/plain": [
       "Vehicle Size      Large   Medsize     Small\n",
       "Sales Channel                              \n",
       "Agent          0.020708  0.144953  0.025884\n",
       "Branch         0.021036  0.074795  0.018699\n",
       "Call Center    0.013598  0.067989  0.027195\n",
       "Web            0.013585  0.095094  0.009057"
      ]
     },
     "execution_count": 18,
     "metadata": {},
     "output_type": "execute_result"
    }
   ],
   "source": [
    "# Making it more readable\n",
    "\n",
    "cus_bysales_veh = cus_bysales_veh.unstack().fillna(0)\n",
    "cus_bysales_veh"
   ]
  },
  {
   "cell_type": "code",
   "execution_count": 19,
   "metadata": {},
   "outputs": [
    {
     "data": {
      "image/png": "[encoded data removed]",
      "text/plain": [
       "<Figure size 504x504 with 1 Axes>"
      ]
     },
     "metadata": {
      "needs_background": "light"
     },
     "output_type": "display_data"
    }
   ],
   "source": [
    "# Visualizing the data\n",
    "\n",
    "ax = cus_bysales_veh.plot(kind='bar',\n",
    "                figsize=(7,7),grid=True)\n",
    "\n",
    "ax.set_ylabel('Engagement Rate (%)')\n",
    "\n",
    "plt.show()"
   ]
  },
  {
   "cell_type": "markdown",
   "metadata": {},
   "source": [
    "From this we can see that customers with medium size vehicles respond the best to all sales channels."
   ]
  },
  {
   "cell_type": "markdown",
   "metadata": {},
   "source": [
    "#### 2.6 Engagement Rates by Months Since Policy Inception"
   ]
  },
  {
   "cell_type": "code",
   "execution_count": 20,
   "metadata": {},
   "outputs": [
    {
     "data": {
      "text/plain": [
       "Months Since Policy Inception\n",
       "0     14.457831\n",
       "1     14.117647\n",
       "2     20.224719\n",
       "3     26.315789\n",
       "4     19.780220\n",
       "5      6.896552\n",
       "6      0.000000\n",
       "7      7.594937\n",
       "8      7.407407\n",
       "9     18.750000\n",
       "10    15.789474\n",
       "11    17.307692\n",
       "12     6.000000\n",
       "13    14.814815\n",
       "14     0.000000\n",
       "15    22.018349\n",
       "16     0.000000\n",
       "17    11.881188\n",
       "18    13.333333\n",
       "19    16.981132\n",
       "20    11.650485\n",
       "21    11.428571\n",
       "22    12.903226\n",
       "23    20.454545\n",
       "24    21.951220\n",
       "25    13.483146\n",
       "26    15.000000\n",
       "27    12.371134\n",
       "28    17.475728\n",
       "29    12.244898\n",
       "        ...    \n",
       "70    23.529412\n",
       "71    12.000000\n",
       "72    23.762376\n",
       "73     6.818182\n",
       "74    19.780220\n",
       "75     6.122449\n",
       "76     6.976744\n",
       "77    18.947368\n",
       "78     7.317073\n",
       "79    11.881188\n",
       "80    16.438356\n",
       "81    15.789474\n",
       "82     0.000000\n",
       "83    24.000000\n",
       "84     6.000000\n",
       "85    14.117647\n",
       "86     0.000000\n",
       "87     7.894737\n",
       "88     7.894737\n",
       "89    18.556701\n",
       "90    14.285714\n",
       "91     8.000000\n",
       "92    16.216216\n",
       "93    26.666667\n",
       "94    25.000000\n",
       "95    15.584416\n",
       "96    17.910448\n",
       "97     0.000000\n",
       "98     0.000000\n",
       "99     7.692308\n",
       "Name: Response, Length: 100, dtype: float64"
      ]
     },
     "execution_count": 20,
     "metadata": {},
     "output_type": "execute_result"
    }
   ],
   "source": [
    "cus_bymths_incept = data.loc[\n",
    "    data['Response']=='Yes'].groupby(\n",
    "by='Months Since Policy Inception')['Response'].count() / data.groupby(\n",
    "by='Months Since Policy Inception')['Response'].count() * 100\n",
    "\n",
    "cus_bymths_incept.fillna(0)"
   ]
  },
  {
   "cell_type": "code",
   "execution_count": 21,
   "metadata": {},
   "outputs": [
    {
     "data": {
      "image/png": "[encoded data removed]",
      "text/plain": [
       "<Figure size 504x504 with 1 Axes>"
      ]
     },
     "metadata": {
      "needs_background": "light"
     },
     "output_type": "display_data"
    }
   ],
   "source": [
    "# making it more readable by visualizing the data\n",
    "\n",
    "ax = cus_bymths_incept.fillna(0).plot(\n",
    "                figsize=(7,7),title='Engagement Rates by Months since Policy Inception',color='blue',grid=True)\n",
    "ax.set_xlabel('Months Since Policy Inception')\n",
    "ax.set_ylabel('Engagement Rate(%)')\n",
    "\n",
    "plt.show()"
   ]
  },
  {
   "cell_type": "markdown",
   "metadata": {},
   "source": [
    "### 3. Customer Segmentation by CLV & Months Since Policy Inception\n",
    "\n",
    "In this section we are going to segment our customer base by Customer Lifetime Value and Months Since Policy Inception."
   ]
  },
  {
   "cell_type": "code",
   "execution_count": 22,
   "metadata": {},
   "outputs": [
    {
     "data": {
      "text/plain": [
       "count     9134.000000\n",
       "mean      8004.940475\n",
       "std       6870.967608\n",
       "min       1898.007675\n",
       "25%       3994.251794\n",
       "50%       5780.182197\n",
       "75%       8962.167041\n",
       "max      83325.381190\n",
       "Name: Customer Lifetime Value, dtype: float64"
      ]
     },
     "execution_count": 22,
     "metadata": {},
     "output_type": "execute_result"
    }
   ],
   "source": [
    "# a quick look at the distribution of CLV\n",
    "\n",
    "data['Customer Lifetime Value'].describe()"
   ]
  },
  {
   "cell_type": "markdown",
   "metadata": {},
   "source": [
    "we are going to define those customers with a CLV higher than the median as high-CLV customers, and those with a CLV lower than the median as low-CLV customers."
   ]
  },
  {
   "cell_type": "code",
   "execution_count": 23,
   "metadata": {},
   "outputs": [],
   "source": [
    "# create a variable for this and store in the dataframe\n",
    "\n",
    "data['CLV Segment'] = data['Customer Lifetime Value'].apply(\n",
    "         lambda x: 'High' if x > data['Customer Lifetime Value'].median() else 'Low')\n",
    "\n",
    "# Doing the same procedure for months since policy Inception\n",
    "\n",
    "data['Months Since Policy Inception'].describe()\n",
    "\n",
    "data['Policy Age Segment'] = data['Months Since Policy Inception'].apply(\n",
    "lambda x: 'High' if x> data['Months Since Policy Inception'].median() else 'Low')\n",
    "\n"
   ]
  },
  {
   "cell_type": "code",
   "execution_count": 24,
   "metadata": {},
   "outputs": [
    {
     "data": {
      "text/html": [
       "<div>\n",
       "<style scoped>\n",
       "    .dataframe tbody tr th:only-of-type {\n",
       "        vertical-align: middle;\n",
       "    }\n",
       "\n",
       "    .dataframe tbody tr th {\n",
       "        vertical-align: top;\n",
       "    }\n",
       "\n",
       "    .dataframe thead th {\n",
       "        text-align: right;\n",
       "    }\n",
       "</style>\n",
       "<table border=\"1\" class=\"dataframe\">\n",
       "  <thead>\n",
       "    <tr style=\"text-align: right;\">\n",
       "      <th></th>\n",
       "      <th>Customer</th>\n",
       "      <th>State</th>\n",
       "      <th>Customer Lifetime Value</th>\n",
       "      <th>Response</th>\n",
       "      <th>Coverage</th>\n",
       "      <th>Education</th>\n",
       "      <th>Effective To Date</th>\n",
       "      <th>EmploymentStatus</th>\n",
       "      <th>Gender</th>\n",
       "      <th>Income</th>\n",
       "      <th>...</th>\n",
       "      <th>Number of Policies</th>\n",
       "      <th>Policy Type</th>\n",
       "      <th>Policy</th>\n",
       "      <th>Renew Offer Type</th>\n",
       "      <th>Sales Channel</th>\n",
       "      <th>Total Claim Amount</th>\n",
       "      <th>Vehicle Class</th>\n",
       "      <th>Vehicle Size</th>\n",
       "      <th>CLV Segment</th>\n",
       "      <th>Policy Age Segment</th>\n",
       "    </tr>\n",
       "  </thead>\n",
       "  <tbody>\n",
       "    <tr>\n",
       "      <th>0</th>\n",
       "      <td>BU79786</td>\n",
       "      <td>Washington</td>\n",
       "      <td>2763.519279</td>\n",
       "      <td>No</td>\n",
       "      <td>Basic</td>\n",
       "      <td>Bachelor</td>\n",
       "      <td>2/24/11</td>\n",
       "      <td>Employed</td>\n",
       "      <td>F</td>\n",
       "      <td>56274</td>\n",
       "      <td>...</td>\n",
       "      <td>1</td>\n",
       "      <td>Corporate Auto</td>\n",
       "      <td>Corporate L3</td>\n",
       "      <td>Offer1</td>\n",
       "      <td>Agent</td>\n",
       "      <td>384.811147</td>\n",
       "      <td>Two-Door Car</td>\n",
       "      <td>Medsize</td>\n",
       "      <td>Low</td>\n",
       "      <td>Low</td>\n",
       "    </tr>\n",
       "    <tr>\n",
       "      <th>1</th>\n",
       "      <td>QZ44356</td>\n",
       "      <td>Arizona</td>\n",
       "      <td>6979.535903</td>\n",
       "      <td>No</td>\n",
       "      <td>Extended</td>\n",
       "      <td>Bachelor</td>\n",
       "      <td>1/31/11</td>\n",
       "      <td>Unemployed</td>\n",
       "      <td>F</td>\n",
       "      <td>0</td>\n",
       "      <td>...</td>\n",
       "      <td>8</td>\n",
       "      <td>Personal Auto</td>\n",
       "      <td>Personal L3</td>\n",
       "      <td>Offer3</td>\n",
       "      <td>Agent</td>\n",
       "      <td>1131.464935</td>\n",
       "      <td>Four-Door Car</td>\n",
       "      <td>Medsize</td>\n",
       "      <td>High</td>\n",
       "      <td>Low</td>\n",
       "    </tr>\n",
       "    <tr>\n",
       "      <th>2</th>\n",
       "      <td>AI49188</td>\n",
       "      <td>Nevada</td>\n",
       "      <td>12887.431650</td>\n",
       "      <td>No</td>\n",
       "      <td>Premium</td>\n",
       "      <td>Bachelor</td>\n",
       "      <td>2/19/11</td>\n",
       "      <td>Employed</td>\n",
       "      <td>F</td>\n",
       "      <td>48767</td>\n",
       "      <td>...</td>\n",
       "      <td>2</td>\n",
       "      <td>Personal Auto</td>\n",
       "      <td>Personal L3</td>\n",
       "      <td>Offer1</td>\n",
       "      <td>Agent</td>\n",
       "      <td>566.472247</td>\n",
       "      <td>Two-Door Car</td>\n",
       "      <td>Medsize</td>\n",
       "      <td>High</td>\n",
       "      <td>Low</td>\n",
       "    </tr>\n",
       "    <tr>\n",
       "      <th>3</th>\n",
       "      <td>WW63253</td>\n",
       "      <td>California</td>\n",
       "      <td>7645.861827</td>\n",
       "      <td>No</td>\n",
       "      <td>Basic</td>\n",
       "      <td>Bachelor</td>\n",
       "      <td>1/20/11</td>\n",
       "      <td>Unemployed</td>\n",
       "      <td>M</td>\n",
       "      <td>0</td>\n",
       "      <td>...</td>\n",
       "      <td>7</td>\n",
       "      <td>Corporate Auto</td>\n",
       "      <td>Corporate L2</td>\n",
       "      <td>Offer1</td>\n",
       "      <td>Call Center</td>\n",
       "      <td>529.881344</td>\n",
       "      <td>SUV</td>\n",
       "      <td>Medsize</td>\n",
       "      <td>High</td>\n",
       "      <td>High</td>\n",
       "    </tr>\n",
       "    <tr>\n",
       "      <th>4</th>\n",
       "      <td>HB64268</td>\n",
       "      <td>Washington</td>\n",
       "      <td>2813.692575</td>\n",
       "      <td>No</td>\n",
       "      <td>Basic</td>\n",
       "      <td>Bachelor</td>\n",
       "      <td>2/3/11</td>\n",
       "      <td>Employed</td>\n",
       "      <td>M</td>\n",
       "      <td>43836</td>\n",
       "      <td>...</td>\n",
       "      <td>1</td>\n",
       "      <td>Personal Auto</td>\n",
       "      <td>Personal L1</td>\n",
       "      <td>Offer1</td>\n",
       "      <td>Agent</td>\n",
       "      <td>138.130879</td>\n",
       "      <td>Four-Door Car</td>\n",
       "      <td>Medsize</td>\n",
       "      <td>Low</td>\n",
       "      <td>Low</td>\n",
       "    </tr>\n",
       "  </tbody>\n",
       "</table>\n",
       "<p>5 rows × 26 columns</p>\n",
       "</div>"
      ],
      "text/plain": [
       "  Customer       State  Customer Lifetime Value Response  Coverage Education  \\\n",
       "0  BU79786  Washington              2763.519279       No     Basic  Bachelor   \n",
       "1  QZ44356     Arizona              6979.535903       No  Extended  Bachelor   \n",
       "2  AI49188      Nevada             12887.431650       No   Premium  Bachelor   \n",
       "3  WW63253  California              7645.861827       No     Basic  Bachelor   \n",
       "4  HB64268  Washington              2813.692575       No     Basic  Bachelor   \n",
       "\n",
       "  Effective To Date EmploymentStatus Gender  Income        ...          \\\n",
       "0           2/24/11         Employed      F   56274        ...           \n",
       "1           1/31/11       Unemployed      F       0        ...           \n",
       "2           2/19/11         Employed      F   48767        ...           \n",
       "3           1/20/11       Unemployed      M       0        ...           \n",
       "4            2/3/11         Employed      M   43836        ...           \n",
       "\n",
       "  Number of Policies     Policy Type        Policy  Renew Offer Type  \\\n",
       "0                  1  Corporate Auto  Corporate L3            Offer1   \n",
       "1                  8   Personal Auto   Personal L3            Offer3   \n",
       "2                  2   Personal Auto   Personal L3            Offer1   \n",
       "3                  7  Corporate Auto  Corporate L2            Offer1   \n",
       "4                  1   Personal Auto   Personal L1            Offer1   \n",
       "\n",
       "   Sales Channel  Total Claim Amount  Vehicle Class Vehicle Size CLV Segment  \\\n",
       "0          Agent          384.811147   Two-Door Car      Medsize         Low   \n",
       "1          Agent         1131.464935  Four-Door Car      Medsize        High   \n",
       "2          Agent          566.472247   Two-Door Car      Medsize        High   \n",
       "3    Call Center          529.881344            SUV      Medsize        High   \n",
       "4          Agent          138.130879  Four-Door Car      Medsize         Low   \n",
       "\n",
       "  Policy Age Segment  \n",
       "0                Low  \n",
       "1                Low  \n",
       "2                Low  \n",
       "3               High  \n",
       "4                Low  \n",
       "\n",
       "[5 rows x 26 columns]"
      ]
     },
     "execution_count": 24,
     "metadata": {},
     "output_type": "execute_result"
    }
   ],
   "source": [
    "# Checking the data for the newly added columns\n",
    "data.head()"
   ]
  },
  {
   "cell_type": "code",
   "execution_count": 34,
   "metadata": {},
   "outputs": [
    {
     "data": {
      "text/plain": [
       "\"\\n    ax = data.loc[\\n    (data['CLV Segment'] == 'High') & (data['Policy Age Segment'] == 'High')\\n].plot.scatter(ax=ax,\\nx='Months Since Policy Inception',\\ny= 'Customer Lifetime Value',\\nlogy= True,\\ncolor='red')\\n\\n# For Low CLV and High Inception\\ndata.loc[\\n    (data['CLV Segment'] == 'High') & (data['Policy Age Segment'] == 'High') \\n].plot.scatter(\\nx='Months Since Policy Inception',\\ny = 'Customer Lifetime Value',\\nlogy=True,\\ncolor='blue', label = 'Low & High', ax=ax)\\n\\n\\n# For High CLV and Low Inception\\n\\nax = data.loc[\\n        (data['CLV Segment'] == 'High') & (data['Policy Age Segment'] == 'Low') \\n].plot.scatter(\\nax =ax,\\nx= 'Months Since Policy Inception',\\ny = 'Customer Lifetime Value',\\nlogy=True,\\ncolor='orange')\\n\\n\\n# For Low CLV and Low Inception\\n\\nax = data.loc[\\n        (data['CLV Segment'] == 'Low') & (data['Policy Age Segment'] == 'Low') \\n].plot.scatter(\\nax =ax,\\nx= 'Months Since Policy Inception',\\ny = 'Customer Lifetime Value',\\nlogy=True,\\ncolor='orange',\\ngrid=True,\\nfigsize=(10,7))\\n\\nax.set_ylabel('CLV (In log scale)')\\nax.set_xlabel('Months Since Policy Inception')\\n\\nax.set_title('Segments by CLV and Policy Age')\\n\\nplt.show()\\n\\n\""
      ]
     },
     "execution_count": 34,
     "metadata": {},
     "output_type": "execute_result"
    }
   ],
   "source": [
    "# Visualize these segments\n",
    "\n",
    "# For High CLV and High Inception\n",
    "'''\n",
    "    ax = data.loc[\n",
    "    (data['CLV Segment'] == 'High') & (data['Policy Age Segment'] == 'High')\n",
    "].plot.scatter(ax=ax,\n",
    "x='Months Since Policy Inception',\n",
    "y= 'Customer Lifetime Value',\n",
    "logy= True,\n",
    "color='red')\n",
    "\n",
    "# For Low CLV and High Inception\n",
    "data.loc[\n",
    "    (data['CLV Segment'] == 'High') & (data['Policy Age Segment'] == 'High') \n",
    "].plot.scatter(\n",
    "x='Months Since Policy Inception',\n",
    "y = 'Customer Lifetime Value',\n",
    "logy=True,\n",
    "color='blue', label = 'Low & High', ax=ax)\n",
    "\n",
    "\n",
    "# For High CLV and Low Inception\n",
    "\n",
    "ax = data.loc[\n",
    "        (data['CLV Segment'] == 'High') & (data['Policy Age Segment'] == 'Low') \n",
    "].plot.scatter(\n",
    "ax =ax,\n",
    "x= 'Months Since Policy Inception',\n",
    "y = 'Customer Lifetime Value',\n",
    "logy=True,\n",
    "color='orange')\n",
    "\n",
    "\n",
    "# For Low CLV and Low Inception\n",
    "\n",
    "ax = data.loc[\n",
    "        (data['CLV Segment'] == 'Low') & (data['Policy Age Segment'] == 'Low') \n",
    "].plot.scatter(\n",
    "ax =ax,\n",
    "x= 'Months Since Policy Inception',\n",
    "y = 'Customer Lifetime Value',\n",
    "logy=True,\n",
    "color='orange',\n",
    "grid=True,\n",
    "figsize=(10,7))\n",
    "\n",
    "ax.set_ylabel('CLV (In log scale)')\n",
    "ax.set_xlabel('Months Since Policy Inception')\n",
    "\n",
    "ax.set_title('Segments by CLV and Policy Age')\n",
    "\n",
    "plt.show()\n",
    "\n",
    "'''\n",
    "\n",
    "#you had problem with assignment, you already defined what TARGET ax is, but you kept defining each as target ax again, also, axis location set #\n",
    "#was wrong for some, HH, LH, HL, LL\n",
    "#you might need to read up more on how to create multiple scatter plot on one.\n",
    "#i included some below"
   ]
  },
  {
   "cell_type": "markdown",
   "metadata": {},
   "source": [
    "### USEFUL LINKS\n",
    "[this](https://stackoverflow.com/questions/43061768/plotting-multiple-scatter-plots-pandas), [this](https://pandas.pydata.org/pandas-docs/stable/reference/api/pandas.DataFrame.plot.scatter.html) [here](https://stackoverflow.com/questions/45147454/scatter-plot-from-multiple-columns-of-a-pandas-dataframe?rq=1), [and this](https://www.dataquest.io/blog/tutorial-time-series-analysis-with-pandas/)\n",
    "\n"
   ]
  },
  {
   "cell_type": "code",
   "execution_count": 33,
   "metadata": {},
   "outputs": [
    {
     "data": {
      "image/png": "[encoded data removed]",
      "text/plain": [
       "<Figure size 720x504 with 1 Axes>"
      ]
     },
     "metadata": {
      "needs_background": "light"
     },
     "output_type": "display_data"
    }
   ],
   "source": [
    "# Visualize these segments\n",
    "\n",
    "# For High CLV and High Inception\n",
    "ax = data.loc[\n",
    "    (data['CLV Segment'] == 'High') & (data['Policy Age Segment'] == 'High')\n",
    "].plot.scatter(x='Months Since Policy Inception',y='Customer Lifetime Value',logy= True,color='red')\n",
    "\n",
    "# For Low CLV and High Inception\n",
    "data.loc[\n",
    "    (data['CLV Segment'] == 'Low') & (data['Policy Age Segment'] == 'High') \n",
    "].plot.scatter(ax=ax, x='Months Since Policy Inception',y ='Customer Lifetime Value',logy=True,color='blue')\n",
    "\n",
    "# For High CLV and Low Inception\n",
    "data.loc[\n",
    "        (data['CLV Segment'] == 'High') & (data['Policy Age Segment'] == 'Low') \n",
    "].plot.scatter(ax =ax,x= 'Months Since Policy Inception',y = 'Customer Lifetime Value',logy=True,color='orange')\n",
    "\n",
    "# For Low CLV and Low Inception\n",
    "data.loc[\n",
    "    (data['CLV Segment'] == 'Low') & (data['Policy Age Segment'] == 'Low') \n",
    "].plot.scatter(ax =ax,x= 'Months Since Policy Inception',y = 'Customer Lifetime Value',logy=True,color='green',grid=True,\n",
    "figsize=(10,7))\n",
    "\n",
    "ax.set_ylabel('CLV (In log scale)')\n",
    "ax.set_xlabel('Months Since Policy Inception')\n",
    "\n",
    "ax.set_title('Segments by CLV and Policy Age')\n",
    "\n",
    "plt.show()"
   ]
  },
  {
   "cell_type": "code",
   "execution_count": 26,
   "metadata": {},
   "outputs": [
    {
     "data": {
      "text/plain": [
       "CLV Segment  Policy Age Segment\n",
       "High         High                  0.138728\n",
       "             Low                   0.132067\n",
       "Low          High                  0.162450\n",
       "             Low                   0.139957\n",
       "Name: Customer, dtype: float64"
      ]
     },
     "execution_count": 26,
     "metadata": {},
     "output_type": "execute_result"
    }
   ],
   "source": [
    "# see whether there is any noticeable difference in the engagement rate among these\n",
    "\n",
    "engagement_rates_by_segment = data.loc[data['Response']=='Yes'\n",
    "].groupby(['CLV Segment','Policy Age Segment']).count()['Customer']/data.groupby([\n",
    "    'CLV Segment','Policy Age Segment'\n",
    "]).count()['Customer']\n",
    "\n",
    "engagement_rates_by_segment"
   ]
  },
  {
   "cell_type": "code",
   "execution_count": 27,
   "metadata": {},
   "outputs": [
    {
     "data": {
      "image/png": "[encoded data removed]",
      "text/plain": [
       "<Figure size 720x504 with 1 Axes>"
      ]
     },
     "metadata": {
      "needs_background": "light"
     },
     "output_type": "display_data"
    }
   ],
   "source": [
    "# visualizing these segments\n",
    "\n",
    "ax = (engagement_rates_by_segment.unstack()*100).plot(\n",
    "kind='bar',figsize=(10,7),grid=True)\n",
    "\n",
    "ax.set_ylabel('Engagement Rate(%)')\n",
    "ax.set_xlabel('Engagement Rates by Cutomer Segemnts')\n",
    "\n",
    "plt.show()"
   ]
  },
  {
   "cell_type": "markdown",
   "metadata": {},
   "source": [
    "From the plot we can notice that High Policy Age Segment has higher engagement than the Low Policy Age\n",
    "Segment. This suggests that those customers who have been insured by this company longer respond better. Moreover, the High Policy Age and Low CLV segment has the highest engagement rate among the four segments.\n",
    "\n",
    "By creating different customer segments based on customer attributes, we can better understand how different groups of customers behave differently."
   ]
  },
  {
   "cell_type": "code",
   "execution_count": null,
   "metadata": {},
   "outputs": [],
   "source": []
  }
 ],
 "metadata": {
  "kernelspec": {
   "display_name": "Python 3",
   "language": "python",
   "name": "python3"
  },
  "language_info": {
   "codemirror_mode": {
    "name": "ipython",
    "version": 3
   },
   "file_extension": ".py",
   "mimetype": "text/x-python",
   "name": "python",
   "nbconvert_exporter": "python",
   "pygments_lexer": "ipython3",
   "version": "3.7.1"
  }
 },
 "nbformat": 4,
 "nbformat_minor": 2
}
